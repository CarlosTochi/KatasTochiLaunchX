{
 "cells": [
  {
   "cell_type": "markdown",
   "metadata": {},
   "source": [
    "## Ejercicio\n",
    "Un asteroide se acerca, y viaja a una velocidad de 49 km/s."
   ]
  },
  {
   "cell_type": "code",
   "execution_count": 1,
   "metadata": {},
   "outputs": [
    {
     "name": "stdout",
     "output_type": "stream",
     "text": [
      "Un asteroide se acerca a la Tierra demasiado rápido.\n"
     ]
    }
   ],
   "source": [
    "velocidad = 49\n",
    "\n",
    "if velocidad > 25:\n",
    "    print(\"Un asteroide se acerca a la Tierra demasiado rápido.\")\n",
    "else:\n",
    "    print(\"No hay peligro, sigue tu día.\")"
   ]
  },
  {
   "cell_type": "markdown",
   "metadata": {},
   "source": [
    "Asteroide que se dirige a la tierra a una velocidad de 19 km/s."
   ]
  },
  {
   "cell_type": "code",
   "execution_count": 2,
   "metadata": {},
   "outputs": [
    {
     "name": "stdout",
     "output_type": "stream",
     "text": [
      "No busquen un asteroide en el cielo.\n"
     ]
    }
   ],
   "source": [
    "velocidad = 19\n",
    "\n",
    "if velocidad >= 20:\n",
    "    print(\"Busquen un asteroide en el cielo.\")\n",
    "elif velocidad < 20:\n",
    "    print(\"No busquen un asteroide en el cielo.\")\n",
    "else:\n",
    "    print(\"No hay asteroides cerca.\")"
   ]
  },
  {
   "cell_type": "markdown",
   "metadata": {},
   "source": [
    " Uso de operadores and y or."
   ]
  },
  {
   "cell_type": "code",
   "execution_count": 4,
   "metadata": {},
   "outputs": [
    {
     "name": "stdout",
     "output_type": "stream",
     "text": [
      "¡Advertencia! Un gran asteroide está muy cerca\n"
     ]
    }
   ],
   "source": [
    "velocidadAsteroide = 37\n",
    "tamañoAsteroide = 27\n",
    "if velocidadAsteroide > 25 and tamañoAsteroide > 25:\n",
    "    print (\"¡Advertencia! Un gran asteroide está muy cerca\")\n",
    "elif velocidadAsteroide >= 20:\n",
    "    print (\"¡Alerta!, deben buscar un asteroide en el cielo\")\n",
    "elif tamañoAsteroide < 25:\n",
    "    print (\"Sin riesgo, estamos a salvo\")\n",
    "else:\n",
    "    print(\"Sin riesgo, estamos a salvo\")"
   ]
  }
 ],
 "metadata": {
  "interpreter": {
   "hash": "f21ff6035dfd57f72a0fd8bb90e967ce5a55f81221555a41f3b9f6ce571655e7"
  },
  "kernelspec": {
   "display_name": "Python 3.10.2 64-bit",
   "language": "python",
   "name": "python3"
  },
  "language_info": {
   "codemirror_mode": {
    "name": "ipython",
    "version": 3
   },
   "file_extension": ".py",
   "mimetype": "text/x-python",
   "name": "python",
   "nbconvert_exporter": "python",
   "pygments_lexer": "ipython3",
   "version": "3.9.1"
  },
  "orig_nbformat": 4
 },
 "nbformat": 4,
 "nbformat_minor": 2
}
